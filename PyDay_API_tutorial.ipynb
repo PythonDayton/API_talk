{
 "cells": [
  {
   "cell_type": "markdown",
   "metadata": {},
   "source": [
    "# PyDay Tutorial: Using APIs in Python"
   ]
  },
  {
   "cell_type": "markdown",
   "metadata": {},
   "source": [
    "What's up World, welcome to the Python Dayton (PyDay) tutorial on how to interact with and collect data from these cool things called APIs. Before we start the fun, I would like to start by stating that this is a very introductory level tutorial meant for beginners. So if you are an intermediate level or greater python user, this is probably not the python tutorial you are looking for *(Jedi hand wave)*. For those of you who decided to stick it out with me, the following sections will provide some fundamental information about APIs and then move into a step by step example and some additional problems for the reader to work through. With that, let's get started."
   ]
  },
  {
   "cell_type": "markdown",
   "metadata": {},
   "source": [
    "## Installing Python and the Requests library"
   ]
  },
  {
   "cell_type": "markdown",
   "metadata": {},
   "source": [
    "The first thing we will want to do is to make sure that Python 3 and the requests library are installed on your machine. Python installation instructions can be found [here](https://docs.python-guide.org/starting/installation/) and the requests library installation instructions can be found [here](http://www.python-requests.org/en/latest/user/install/)."
   ]
  },
  {
   "cell_type": "markdown",
   "metadata": {},
   "source": [
    "## Application Programming Interfaces...aka APIs"
   ]
  },
  {
   "cell_type": "markdown",
   "metadata": {},
   "source": [
    "APIs can be defined as software intermediaries that allow two applications to talk to one another. These systems are hosted on web servers. To put it in a different frame of reference, think back to the last time you used your smart phone. You, the user, interacted with the user interface of the phone by providing a set of instructions which either provided navigation instruction or brought you to the intended destination. An API is very similar, except an API is a computer providing instructions to another computer.\n",
    "\n",
    "We can also think about it like this. You have just been seated in your favorite restaurant and are examining the menu. After you make your dinner selection(s) (dinner == data) a waiter (the messenger) takes your order back to the kitchen where the order is fulfilled. A few moments later, the waiter returns with your order. This is how the API process works. As the user, you first identify what data you would like to retrieve from the API. Once this has been identified you make a request from an API to collect that data. This request, and the method by which it is made, can be thought of as contract between the two servers. The term contract is important for this situation because it implies that there is an understanding between the systems for how a request is made and the data that is subsequently returned."
   ]
  },
  {
   "cell_type": "markdown",
   "metadata": {},
   "source": [
    "## Making the Request"
   ]
  },
  {
   "cell_type": "markdown",
   "metadata": {},
   "source": [
    "The typical request for an API is done through a Uniform Resource Locator (URL). In these situations, a valid request includes four components\n",
    "\n",
    "* URL - tells the server what resources the user wants to interact with\n",
    "* Method - tells the server the kind of actions the user wants to take in the server. Four commonly used methods:\n",
    "    * GET - Ask the server to retrieve a resource\n",
    "    * POST - Ask the server to create a new resource\n",
    "    * PUT - Ask the server to edit/update an existing resource\n",
    "    * DELETE - Ask the server to delete a resource\n",
    "* List of Headers - additional meta-information about a request\n",
    "* Body - the data the client wants to send to the server\n"
   ]
  },
  {
   "cell_type": "markdown",
   "metadata": {},
   "source": [
    "## Receiving the Response"
   ]
  },
  {
   "cell_type": "markdown",
   "metadata": {},
   "source": [
    "APIs provide instant status codes (three-digit numbers) after a request is made\n",
    "* **200** - successful request, and the resulting data has been captured\n",
    "* **301** - you are being redirected to a different endpoint server\n",
    "* **401** - authentication not accepted\n",
    "* **400** - bad request\n",
    "* **403** - no permissions to access the resource\n",
    "* **404** - the resource was not found on the server\n",
    "\n",
    "After a request is made by a user to a server, the server will respond with one of these codes, indicating if the request was successfully received or not."
   ]
  },
  {
   "cell_type": "markdown",
   "metadata": {},
   "source": [
    "## Data Formats"
   ]
  },
  {
   "cell_type": "markdown",
   "metadata": {},
   "source": [
    "We have covered a lot of the generalities of APIs from a conceptual standpoint, now we will talk a little bit about the technical aspects of API use, more specifically, the data. There are two very common data types used amongst API systems; JSON and XML. For this tutorial we will focus on JSON. JSON, or Java Script Object Notation, is a very simple data format that uses a key and value. JSON is a method to store information in an organized, easy-to-access, human-readable format. Additionally, this format provides the ability for users to encode data structures like lists and dictionaries, so they are easily readable by machines."
   ]
  },
  {
   "cell_type": "markdown",
   "metadata": {},
   "source": [
    "## Endpoints"
   ]
  },
  {
   "cell_type": "markdown",
   "metadata": {},
   "source": [
    "Before we begin working through examples, let's talk about the End...endpoints that is. Endpoints represent the end of one communication channel. This is the server route that is used to collect different data from a given API. Let's imagine we are back in the restaurant, looking at the menu. There are three sections of the menu to choose items from, Appetizers, Entree, and Dessert. You can think of these sections as endpoints which retrieves certain data. The ordering process is very similar between the sections, but each point to a specific pool of data. We will see this as we make our way through the example in the next section. "
   ]
  },
  {
   "cell_type": "markdown",
   "metadata": {},
   "source": [
    "## Example: International Space Station"
   ]
  },
  {
   "cell_type": "markdown",
   "metadata": {},
   "source": [
    "We will begin by querying a simple API which does not require an authentication (i.e. usernames/passwords) for use. We will retrieve data about the [International Space Station](https://en.wikipedia.org/wiki/International_Space_Station) (ISS) using the [OpenNotify](http://open-notify.org/) API. To retrieve data from this website we will use the *GET* request. Before we jump into the code, let's take a look at the [documentation](http://open-notify.org/Open-Notify-API/) for OpenNotify.\n",
    "\n",
    "Examining the API documentation, we see that there are three endpoints:\n",
    "1. [ISS Current Location](http://open-notify.org/Open-Notify-API/ISS-Location-Now/)\n",
    "2. [ISS Pass Times](http://open-notify.org/Open-Notify-API/ISS-Pass-Times/)\n",
    "3. [People in Space](http://open-notify.org/Open-Notify-API/People-In-Space/)\n",
    "\n",
    "Let's begin with identifying the current location of the international space station."
   ]
  },
  {
   "cell_type": "code",
   "execution_count": null,
   "metadata": {},
   "outputs": [],
   "source": [
    "\n",
    "# import the request library\n",
    "import requests\n",
    "\n",
    "# Make a get request to find the current location of the international space station.\n",
    "response = requests.get(\"http://api.open-notify.org/iss-now.json\")\n",
    "# Print the status code of the response.\n",
    "print(response.status_code) # the status code should come out to 200, which indicates a success\n",
    "\n",
    "# Print the content of the response\n",
    "print(response.content)\n"
   ]
  },
  {
   "cell_type": "markdown",
   "metadata": {},
   "source": [
    "The `/iss-now.json` API provides information to the user without the need for any further information. The `/iss-pass.json` API differs in that it requires parameters. The documentation identifies the need for 2 required input values (*Latitude* and *Longitude*) and 2 additional parameters (*altitude* and *number*). Let's take a look at the next passing of the ISS over Dayton, OH."
   ]
  },
  {
   "cell_type": "code",
   "execution_count": null,
   "metadata": {},
   "outputs": [],
   "source": [
    "# Set up the parameters we want to pass to the API, the latitude and longitude of Dayton.\n",
    "parameters = {\"lat\": 39.76, \"lon\": 84.3}\n",
    "\n",
    "# Make the get request with the parameters.\n",
    "response = requests.get(\"http://api.open-notify.org/iss-pass.json\", params=parameters)\n",
    "\n",
    "# Print the status code of the response.\n",
    "print(response.status_code)\n",
    "\n",
    "# Print the content of the response\n",
    "print(response.content)\n",
    "\n",
    "# Printing the same data as a command\n",
    "response = requests.get(\"http://api.open-notify.org/iss-pass.json?lat=39.76&lon=84.3\")\n",
    "print(response.json)"
   ]
  },
  {
   "cell_type": "markdown",
   "metadata": {},
   "source": [
    "We can't forget about our last endpoint. Let's take a look at the `/astros.json` API and pull out some data."
   ]
  },
  {
   "cell_type": "code",
   "execution_count": null,
   "metadata": {},
   "outputs": [],
   "source": [
    "# Get the response from the API endpoint.\n",
    "response = requests.get(\"http://api.open-notify.org/astros.json\")\n",
    "\n",
    "# provide the json data to a variable\n",
    "data = response.json()\n",
    "\n",
    "# How many people are currently on the international space station?\n",
    "print(data['number'])"
   ]
  },
  {
   "cell_type": "markdown",
   "metadata": {},
   "source": [
    "6"
   ]
  },
  {
   "cell_type": "markdown",
   "metadata": {},
   "source": [
    "## Authentication"
   ]
  },
  {
   "cell_type": "markdown",
   "metadata": {},
   "source": [
    "Just like with any computer system handling data, security becomes an issue. Not all data is meant to be accessible by all people. Most organization providing data must manage the data in a way that it is secure, secret, that it is changed at the appropriate levels, and that it should be made available for external manipulation. This is where the concept of **Authentication** comes into play. Authentication is when an entity proves an identity - you are who you say you are. This differs from the concept of **Authorization** - where an entity proves a right to access. There are three major methods of adding this level of security into an API which we will cover below.\n",
    "\n",
    "* **HTTP Basic Authentication** - an HTTP user supplies a **username** and **password** to the API for authentication.    This method does not require the need for more complex response systems which may include methods such as handshakes, cookies, session IDs, logins, etc. Without proper procedures set in place, this process can be vulnerable to attack.\n",
    "\n",
    "* **API Keys** - API Keys are a unique generated value which is assigned to each first-time user, signifying the system   recognizes them. This is a very fast and agile method for the system to recognize a user and has been used as the default approach for many API providers. While this method does provide some efficiencies for both users and API providers it does also comes with some insecurities.\n",
    "\n",
    "* **OAuth** - OAuth is a token-based combination of both authentication and authorization. In this approach, a user logs into a system which acts as an intermediary on their behalf. The user will forward the request to an authentication server. Pending acceptance of this authentication, the token is then provided to the user and then to the requester. The token comes with limited scope and age of validity.\n",
    "\n",
    "\n"
   ]
  },
  {
   "cell_type": "markdown",
   "metadata": {},
   "source": [
    "## APIs Using Authentication"
   ]
  },
  {
   "cell_type": "markdown",
   "metadata": {},
   "source": [
    "So now that we know a little bit more about using Authentication with APIs, let's try some more examples. This time around we will focus our attention on the Twitter API. [Twitter](https://twitter.com/?lang=en) is an online news and social networking service in which users post and interact with messages - known as \"tweets\". \n",
    "\n",
    "In order to access this API we will need to register for an account with Twitter and install a python wrapper to assist in our ability to make requests. This next section follows very closely from a [blog post](https://stackabuse.com/accessing-the-twitter-api-with-python/) on [Stack Abuse](https://stackabuse.com/). \n",
    "\n",
    "To get registered for an account use the following steps:\n",
    "\n",
    "* Visit the Application Management page at https://apps.twitter.com/, and sign in/register with your Twitter account\n",
    "* Click on the \"Create New App\" button, fill in the details and agree the Terms of Service\n",
    "* Navigate to \"Keys and Access Tokens\" section and take a note of your Consumer Key and Secret\n",
    "* In the same section click on \"Create my access token\" button\n",
    "* Take note of your Access Token and Access Token Secret\n",
    "\n",
    "Once you have registered and created a new application and have created an access token you are good to go from the Twitter end.\n"
   ]
  },
  {
   "cell_type": "markdown",
   "metadata": {},
   "source": [
    "## Twitter Python Wrapper"
   ]
  },
  {
   "cell_type": "markdown",
   "metadata": {},
   "source": [
    "Python, being one of the most popular programming languages, has a strong community of developers. This is going to be very useful to us as we close out this tutorial. Over the years, many python developers have contributed to the ease of integration with Twitter in the form of wrappers for the Twitter API. Think of a wrapper as a software library developed to support the use of another software platform or service, in this case the use of the Twitter API. There have been many Python wrappers developed including the some of the following:\n",
    "* [python-twitter](https://github.com/bear/python-twitter)\n",
    "* [tweepy](http://www.tweepy.org/)\n",
    "* [TweetPony](https://github.com/Mezgrman/TweetPony)\n",
    "* [Python Twitter Tools](https://github.com/sixohsix/twitter)\n",
    "* [twitter-gobject](https://github.com/tchx84/twitter-gobject)\n",
    "* [TwitterSearch](https://github.com/ckoepp/TwitterSearch)\n",
    "* [twython](https://github.com/ryanmcgrath/twython)\n",
    "* [TwitterAPI](https://github.com/geduldig/TwitterAPI)\n",
    "* [Birdy](https://github.com/inueni/birdy)\n",
    "\n",
    "We will utilize the **twython** library to interact with the API. Enter the following command to install the twython library via `pip`.\n",
    "\n",
    "```python\n",
    "$pip install twython\n",
    "```\n"
   ]
  },
  {
   "cell_type": "markdown",
   "metadata": {},
   "source": [
    "In this next section we will implement Twython into our Twitter API. The twython documentation can be found [here](https://twython.readthedocs.io/en/latest/usage/starting_out.html). We will begin this section by importing the Twython library, creating a Twython instance using our 'CONSUMER_KEY' and 'CONSUMER_SECRET', and then making a query of the word 'dayton'. The Twitter API documentation for 'Search Tweets' can be found [here](https://developer.twitter.com/en/docs/tweets/search/api-reference/get-search-tweets.html)."
   ]
  },
  {
   "cell_type": "code",
   "execution_count": null,
   "metadata": {},
   "outputs": [],
   "source": [
    "# Import twython\n",
    "from twython import Twython\n",
    "\n",
    "\n",
    "# Instantiate an object\n",
    "py_tweets = Twython('CONSUMER_KEY','CONSUMER_SECRET')\n",
    "\n",
    "# Create the query\n",
    "query = {'q':'python',\n",
    "         'result_type':'popular',\n",
    "         'count':10,\n",
    "         'lang':en',\n",
    " }"
   ]
  },
  {
   "cell_type": "markdown",
   "metadata": {},
   "source": [
    "Next, using the `pandas` library and Twython's `search` method, we will create a dictionary, store our query information, and present the information in a table."
   ]
  },
  {
   "cell_type": "code",
   "execution_count": 8,
   "metadata": {},
   "outputs": [
    {
     "data": {
      "text/html": [
       "<div>\n",
       "<style scoped>\n",
       "    .dataframe tbody tr th:only-of-type {\n",
       "        vertical-align: middle;\n",
       "    }\n",
       "\n",
       "    .dataframe tbody tr th {\n",
       "        vertical-align: top;\n",
       "    }\n",
       "\n",
       "    .dataframe thead th {\n",
       "        text-align: right;\n",
       "    }\n",
       "</style>\n",
       "<table border=\"1\" class=\"dataframe\">\n",
       "  <thead>\n",
       "    <tr style=\"text-align: right;\">\n",
       "      <th></th>\n",
       "      <th>user</th>\n",
       "      <th>date</th>\n",
       "      <th>text</th>\n",
       "      <th>favorite_count</th>\n",
       "    </tr>\n",
       "  </thead>\n",
       "  <tbody>\n",
       "    <tr>\n",
       "      <th>0</th>\n",
       "      <td>Arbys</td>\n",
       "      <td>Wed Apr 03 17:34:37 +0000 2019</td>\n",
       "      <td>Ready for a big couple of weeks in Dayton, @WG...</td>\n",
       "      <td>781</td>\n",
       "    </tr>\n",
       "    <tr>\n",
       "      <th>7</th>\n",
       "      <td>bader_diedrich</td>\n",
       "      <td>Tue Apr 02 05:40:01 +0000 2019</td>\n",
       "      <td>I’ll be doing a radio tour across our great na...</td>\n",
       "      <td>266</td>\n",
       "    </tr>\n",
       "    <tr>\n",
       "      <th>8</th>\n",
       "      <td>Reds</td>\n",
       "      <td>Tue Apr 02 21:10:06 +0000 2019</td>\n",
       "      <td>2019 #RedsMiLB rosters are out!\\n\\n🦇 @Louisvil...</td>\n",
       "      <td>120</td>\n",
       "    </tr>\n",
       "    <tr>\n",
       "      <th>5</th>\n",
       "      <td>DaytonBaseball</td>\n",
       "      <td>Tue Apr 02 21:26:55 +0000 2019</td>\n",
       "      <td>That's a W! Dayton defeats Butler by a score o...</td>\n",
       "      <td>101</td>\n",
       "    </tr>\n",
       "    <tr>\n",
       "      <th>6</th>\n",
       "      <td>DragonsBaseball</td>\n",
       "      <td>Tue Apr 02 18:44:11 +0000 2019</td>\n",
       "      <td>The Dragons announced an Opening Day roster to...</td>\n",
       "      <td>91</td>\n",
       "    </tr>\n",
       "    <tr>\n",
       "      <th>1</th>\n",
       "      <td>dicapriofdn</td>\n",
       "      <td>Tue Apr 02 15:19:21 +0000 2019</td>\n",
       "      <td>LDF grantee @RE_volv is raising funds to bring...</td>\n",
       "      <td>79</td>\n",
       "    </tr>\n",
       "    <tr>\n",
       "      <th>4</th>\n",
       "      <td>SoccerInsider</td>\n",
       "      <td>Wed Apr 03 16:54:48 +0000 2019</td>\n",
       "      <td>Top 10 U.S. rated markets for Liverpool v Spur...</td>\n",
       "      <td>78</td>\n",
       "    </tr>\n",
       "    <tr>\n",
       "      <th>3</th>\n",
       "      <td>nanwhaley</td>\n",
       "      <td>Wed Apr 03 13:31:07 +0000 2019</td>\n",
       "      <td>Cities like Dayton have been hit hard by the i...</td>\n",
       "      <td>26</td>\n",
       "    </tr>\n",
       "    <tr>\n",
       "      <th>2</th>\n",
       "      <td>ReadyHarris</td>\n",
       "      <td>Tue Apr 02 17:45:56 +0000 2019</td>\n",
       "      <td>Here is a list of schools that are Sheltering ...</td>\n",
       "      <td>18</td>\n",
       "    </tr>\n",
       "    <tr>\n",
       "      <th>9</th>\n",
       "      <td>WDTN</td>\n",
       "      <td>Wed Apr 03 12:55:00 +0000 2019</td>\n",
       "      <td>Don't miss Baseball Night in Dayton tonight at...</td>\n",
       "      <td>2</td>\n",
       "    </tr>\n",
       "  </tbody>\n",
       "</table>\n",
       "</div>"
      ],
      "text/plain": [
       "              user                            date  \\\n",
       "0            Arbys  Wed Apr 03 17:34:37 +0000 2019   \n",
       "7   bader_diedrich  Tue Apr 02 05:40:01 +0000 2019   \n",
       "8             Reds  Tue Apr 02 21:10:06 +0000 2019   \n",
       "5   DaytonBaseball  Tue Apr 02 21:26:55 +0000 2019   \n",
       "6  DragonsBaseball  Tue Apr 02 18:44:11 +0000 2019   \n",
       "1      dicapriofdn  Tue Apr 02 15:19:21 +0000 2019   \n",
       "4    SoccerInsider  Wed Apr 03 16:54:48 +0000 2019   \n",
       "3        nanwhaley  Wed Apr 03 13:31:07 +0000 2019   \n",
       "2      ReadyHarris  Tue Apr 02 17:45:56 +0000 2019   \n",
       "9             WDTN  Wed Apr 03 12:55:00 +0000 2019   \n",
       "\n",
       "                                                text  favorite_count  \n",
       "0  Ready for a big couple of weeks in Dayton, @WG...             781  \n",
       "7  I’ll be doing a radio tour across our great na...             266  \n",
       "8  2019 #RedsMiLB rosters are out!\\n\\n🦇 @Louisvil...             120  \n",
       "5  That's a W! Dayton defeats Butler by a score o...             101  \n",
       "6  The Dragons announced an Opening Day roster to...              91  \n",
       "1  LDF grantee @RE_volv is raising funds to bring...              79  \n",
       "4  Top 10 U.S. rated markets for Liverpool v Spur...              78  \n",
       "3  Cities like Dayton have been hit hard by the i...              26  \n",
       "2  Here is a list of schools that are Sheltering ...              18  \n",
       "9  Don't miss Baseball Night in Dayton tonight at...               2  "
      ]
     },
     "execution_count": 8,
     "metadata": {},
     "output_type": "execute_result"
    }
   ],
   "source": [
    "import pandas as pd\n",
    "\n",
    "# Search tweets\n",
    "dict_ = {'user': [], 'date': [], 'text': [], 'favorite_count': []}  \n",
    "for status in py_tweets.search(**query)['statuses']:  \n",
    "    dict_['user'].append(status['user']['screen_name'])\n",
    "    dict_['date'].append(status['created_at'])\n",
    "    dict_['text'].append(status['text'])\n",
    "    dict_['favorite_count'].append(status['favorite_count'])\n",
    "\n",
    "# Structure data in a pandas DataFrame for easier manipulation\n",
    "df = pd.DataFrame(dict_)  \n",
    "df.sort_values(by='favorite_count', inplace=True, ascending=False)  \n",
    "df.head(10)  "
   ]
  },
  {
   "cell_type": "markdown",
   "metadata": {},
   "source": [
    "We are able to get some good information from this request. It looks like baseball is one of the major topics of discussion in Dayton."
   ]
  },
  {
   "cell_type": "markdown",
   "metadata": {},
   "source": [
    "## Thanks for reading!"
   ]
  },
  {
   "cell_type": "markdown",
   "metadata": {},
   "source": [
    "This tutorial was an introduction to APIs and some python methods to collect data from them. Many of resources I used to learn about these concepts and to build this tutorial from some really good resources I was able to find online. If you are interested in next steps or more advanced API useage these will be great resources for you too. \n",
    "\n",
    "* [Dataquest API Tutorial](https://www.dataquest.io/blog/python-api-tutorial/)\n",
    "\n",
    "* [Accessing the Twitter API with Python](https://stackabuse.com/accessing-the-twitter-api-with-python/)\n",
    "\n",
    "Thanks for reading and happy coding!"
   ]
  },
  {
   "cell_type": "code",
   "execution_count": null,
   "metadata": {},
   "outputs": [],
   "source": []
  }
 ],
 "metadata": {
  "kernelspec": {
   "display_name": "Python 3",
   "language": "python",
   "name": "python3"
  },
  "language_info": {
   "codemirror_mode": {
    "name": "ipython",
    "version": 3
   },
   "file_extension": ".py",
   "mimetype": "text/x-python",
   "name": "python",
   "nbconvert_exporter": "python",
   "pygments_lexer": "ipython3",
   "version": "3.7.0"
  }
 },
 "nbformat": 4,
 "nbformat_minor": 2
}
